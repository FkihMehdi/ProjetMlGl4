{
  "cells": [
    {
      "cell_type": "code",
      "execution_count": null,
      "metadata": {
        "id": "3al7MrwOHlC3"
      },
      "outputs": [],
      "source": [
        "import requests\n",
        "from bs4 import BeautifulSoup\n",
        "import re\n",
        "import json"
      ]
    },
    {
      "cell_type": "code",
      "execution_count": null,
      "metadata": {
        "id": "kDZeYeUtIHPH"
      },
      "outputs": [],
      "source": [
        "import requests\n",
        "from bs4 import BeautifulSoup\n",
        "import re\n",
        "import json\n",
        "\n",
        "def getMovieDetails(imdbID):\n",
        "    data = {}\n",
        "\n",
        "    movie_url = \"https://www.imdb.com/title/\" + imdbID\n",
        "    r = requests.get(headers={'User-Agent': 'Mozilla/5.0'}, url=movie_url)\n",
        "\n",
        "    # Create a BeautifulSoup object\n",
        "    soup = BeautifulSoup(r.text, 'html.parser')\n",
        "    jsonData = soup.find('script', {\"type\": \"application/ld+json\"})\n",
        "\n",
        "    # If no JSON data is found, return None\n",
        "    if not jsonData:\n",
        "        return None\n",
        "\n",
        "    Moredata = []\n",
        "    try:\n",
        "        jsonSourceObj = json.loads(jsonData.string)\n",
        "        Moredata.append(jsonSourceObj)\n",
        "        data[\"expanded\"] = Moredata\n",
        "    except Exception as e:\n",
        "        print(f\"Error parsing JSON for {imdbID}: {e}\")\n",
        "        return None\n",
        "\n",
        "    # Budget\n",
        "    budget_element = soup.find('li', {'data-testid': 'title-boxoffice-budget'})\n",
        "    if budget_element:\n",
        "        budget_text = budget_element.text\n",
        "        match = re.search(r'\\d+', budget_text)\n",
        "        if match:\n",
        "            data['budget'] = int(match.group(0))\n",
        "\n",
        "    # Directors, Writers, Editors, etc.\n",
        "    full_credits = soup.find('li', class_='ipc-metadata-list__item')\n",
        "    if full_credits:\n",
        "        for item in full_credits.findAll('ul', class_='ipc-metadata-list ipc-metadata-list--dividers-all sc-afe43def-4 kdXikI'):\n",
        "            for sub_item in item.findAll('li'):\n",
        "                job = sub_item.find('a', class_='ipc-metadata-list-item__list-content-item ipc-metadata-list-item__list-content-item--link')\n",
        "                if job:\n",
        "                    data[job.text] = sub_item.text\n",
        "\n",
        "    # imdbId\n",
        "    data[\"imdbID\"] = imdbID\n",
        "\n",
        "    # Page title\n",
        "    title = soup.find('title')\n",
        "    if title:\n",
        "        data[\"title\"] = title.string\n",
        "    else:\n",
        "        data[\"title\"] = \"\"\n",
        "\n",
        "    # RunTime and other attributes\n",
        "    data[\"Minutes\"] = jsonSourceObj.get('duration', \"\")\n",
        "\n",
        "    # Rating\n",
        "    data[\"ratingValue\"] = jsonSourceObj.get('aggregateRating', {}).get('ratingValue', \"\")\n",
        "    data[\"ratingCount\"] = jsonSourceObj.get('aggregateRating', {}).get('ratingCount', \"\")\n",
        "    data[\"summary_text\"] = jsonSourceObj.get('description', \"\")\n",
        "    data['keywords'] = jsonSourceObj.get('keywords', \"\")\n",
        "\n",
        "    return data\n"
      ]
    },
    {
      "cell_type": "code",
      "execution_count": null,
      "metadata": {
        "id": "Zt5Kato1IKYf"
      },
      "outputs": [],
      "source": [
        "import logging\n",
        "import re\n",
        "\n",
        "logging.basicConfig(level=logging.INFO, format=\"%(asctime)s - %(levelname)s - %(message)s\")\n",
        "\n",
        "def scrapIMDB(ImdbId):\n",
        "    if not ImdbId.startswith(\"tt\"):\n",
        "        raise ValueError(\"Invalid IMDB ID format.\")\n",
        "\n",
        "    data = {\"imdbId\": ImdbId}\n",
        "    try:\n",
        "        movieDetails = getMovieDetails(ImdbId)\n",
        "        expanded = movieDetails.get(\"expanded\", [{}])[0]\n",
        "\n",
        "        data[\"name\"] = expanded.get(\"name\", \"\")\n",
        "        data[\"genre\"] = expanded.get(\"genre\", [])\n",
        "        if not isinstance(data[\"genre\"], list):\n",
        "            data[\"genre\"] = [data[\"genre\"]]\n",
        "\n",
        "        data[\"datePublished\"] = expanded.get(\"datePublished\", \"\")\n",
        "        data[\"contentRating\"] = expanded.get(\"contentRating\", \"\")\n",
        "        data[\"keywords\"] = expanded.get(\"keywords\", \"\")\n",
        "        data[\"ratingValue\"] = movieDetails.get(\"ratingValue\", \"\")\n",
        "        data[\"ratingCount\"] = movieDetails.get(\"ratingCount\", \"\")\n",
        "        data[\"budget\"] = movieDetails.get(\"budget\", \"\")\n",
        "        data[\"Minutes\"] = movieDetails.get(\"Minutes\", \"\")\n",
        "\n",
        "        def extract_persons(field):\n",
        "            persons = expanded.get(field, [])\n",
        "            if not isinstance(persons, list):\n",
        "                persons = [persons]\n",
        "            return [{\"name\": person.get(\"name\", \"\"), \"id\": extract_id(person.get(\"url\", \"\"))} for person in persons]\n",
        "\n",
        "        def extract_id(url):\n",
        "            match = re.search(r\"/name/(nm\\d+)/\", url)\n",
        "            return match.group(1) if match else \"\"\n",
        "\n",
        "        data[\"actors\"] = extract_persons(\"actor\")\n",
        "        data[\"directors\"] = extract_persons(\"director\")\n",
        "        data[\"creators\"] = extract_persons(\"creator\")\n",
        "\n",
        "    except Exception as e:\n",
        "        logging.error(f\"Error processing IMDB ID {ImdbId}: {e}\")\n",
        "        raise\n",
        "\n",
        "    return data\n"
      ]
    },
    {
      "cell_type": "code",
      "execution_count": null,
      "metadata": {
        "colab": {
          "base_uri": "https://localhost:8080/"
        },
        "id": "3Rh3fJ16IL3X",
        "outputId": "7e382f94-b8ce-4e2f-bde4-1107fa20de53"
      },
      "outputs": [
        {
          "name": "stdout",
          "output_type": "stream",
          "text": [
            "{'imdbId': 'tt4154796', 'name': 'Avengers: Endgame', 'genre': ['Action', 'Adventure', 'Drama'], 'datePublished': '2019-04-26', 'contentRating': 'PG-13', 'keywords': 'time travel,superhero,super villain,cosmic,marvel cinematic universe', 'ratingValue': 8.4, 'ratingCount': 1328302, 'budget': 356, 'Minutes': 'PT3H1M', 'actors': [{'name': 'Robert Downey Jr.', 'id': 'nm0000375'}, {'name': 'Chris Evans', 'id': 'nm0262635'}, {'name': 'Mark Ruffalo', 'id': 'nm0749263'}], 'directors': [{'name': 'Anthony Russo', 'id': 'nm0751577'}, {'name': 'Joe Russo', 'id': 'nm0751648'}], 'creators': [{'name': '', 'id': ''}, {'name': 'Christopher Markus', 'id': 'nm1321655'}, {'name': 'Stephen McFeely', 'id': 'nm1321656'}, {'name': 'Stan Lee', 'id': 'nm0498278'}]}\n"
          ]
        }
      ],
      "source": [
        "# endgame\n",
        "\n",
        "\n",
        "id = \"tt4154796\"\n",
        "try:\n",
        "    data = scrapIMDB(id)\n",
        "    print(data)\n",
        "except Exception as e:\n",
        "    print(f\"Failed to scrape data: {e}\")\n"
      ]
    },
    {
      "cell_type": "code",
      "execution_count": null,
      "metadata": {
        "colab": {
          "base_uri": "https://localhost:8080/"
        },
        "id": "wXCt3frbIQlG",
        "outputId": "791f7403-7920-486e-fefc-046311f1efa7"
      },
      "outputs": [
        {
          "name": "stdout",
          "output_type": "stream",
          "text": [
            "{'imdbId': 'tt0120812', 'name': 'Rush Hour', 'genre': ['Action', 'Comedy', 'Crime'], 'datePublished': '1998-09-18', 'contentRating': 'PG-13', 'keywords': 'child kidnapping,chinese mafia,gun,mobster,organized crime', 'ratingValue': 7, 'ratingCount': 306205, 'budget': 33, 'Minutes': 'PT1H38M', 'actors': [{'name': 'Jackie Chan', 'id': 'nm0000329'}, {'name': 'Chris Tucker', 'id': 'nm0000676'}, {'name': 'Ken Leung', 'id': 'nm0504962'}], 'directors': [{'name': 'Brett Ratner', 'id': 'nm0711840'}], 'creators': [{'name': '', 'id': ''}, {'name': '', 'id': ''}, {'name': 'Ross LaManna', 'id': 'nm0482780'}, {'name': 'Jim Kouf', 'id': 'nm0467942'}]}\n"
          ]
        }
      ],
      "source": [
        "# rush hour tt0120812\n",
        "\n",
        "\n",
        "id = \"tt0120812\"\n",
        "try:\n",
        "    data = scrapIMDB(id)\n",
        "    print(data)\n",
        "except Exception as e:\n",
        "    print(f\"Failed to scrape data: {e}\")\n"
      ]
    },
    {
      "cell_type": "code",
      "execution_count": null,
      "metadata": {
        "colab": {
          "base_uri": "https://localhost:8080/"
        },
        "id": "VshhtCHAvjF0",
        "outputId": "bfdce708-e1a7-4378-b01f-2b3b908aa48c"
      },
      "outputs": [
        {
          "name": "stderr",
          "output_type": "stream",
          "text": [
            "ERROR:root:Error processing IMDB ID tt1000002: 'NoneType' object has no attribute 'get'\n"
          ]
        },
        {
          "name": "stdout",
          "output_type": "stream",
          "text": [
            "Failed to scrape data: 'NoneType' object has no attribute 'get'\n"
          ]
        }
      ],
      "source": [
        "#not found movie:\n",
        "\n",
        "# rush hour tt1000002\n",
        "\n",
        "\n",
        "id = \"tt1000002\"\n",
        "try:\n",
        "    data = scrapIMDB(id)\n",
        "    print(data)\n",
        "except Exception as e:\n",
        "    print(f\"Failed to scrape data: {e}\")\n"
      ]
    },
    {
      "cell_type": "code",
      "execution_count": null,
      "metadata": {
        "id": "PUcskhrzx5Eh"
      },
      "outputs": [],
      "source": [
        "import time\n",
        "import pandas as pd\n",
        "import logging\n",
        "\n",
        "\n",
        "# Set up logging to force output in Colab\n",
        "logger = logging.getLogger()\n",
        "logger.setLevel(logging.INFO)\n",
        "\n",
        "# Add a StreamHandler to ensure logging output is seen in Colab\n",
        "stream_handler = logging.StreamHandler()\n",
        "stream_handler.setLevel(logging.INFO)\n",
        "logger.addHandler(stream_handler)\n",
        "\n",
        "logging.basicConfig(level=logging.INFO, format=\"%(asctime)s - %(levelname)s - %(message)s\")\n"
      ]
    },
    {
      "cell_type": "code",
      "execution_count": null,
      "metadata": {
        "colab": {
          "background_save": true,
          "base_uri": "https://localhost:8080/"
        },
        "collapsed": true,
        "id": "zrh0gfn0IVTk",
        "outputId": "28320148-d7dd-4712-d776-59307a45e3c4"
      },
      "outputs": [
        {
          "name": "stderr",
          "output_type": "stream",
          "text": [
            "ERROR:root:Error processing IMDB ID tt1151464: 'NoneType' object has no attribute 'get'\n",
            "Error processing IMDB ID tt1151464: 'NoneType' object has no attribute 'get'\n",
            "ERROR:root:Error processing movie ID tt1151464: 'NoneType' object has no attribute 'get'\n",
            "Error processing movie ID tt1151464: 'NoneType' object has no attribute 'get'\n",
            "ERROR:root:Error processing IMDB ID tt1151483: 'NoneType' object has no attribute 'get'\n",
            "Error processing IMDB ID tt1151483: 'NoneType' object has no attribute 'get'\n",
            "ERROR:root:Error processing movie ID tt1151483: 'NoneType' object has no attribute 'get'\n",
            "Error processing movie ID tt1151483: 'NoneType' object has no attribute 'get'\n",
            "ERROR:root:Error processing IMDB ID tt1151506: 'NoneType' object has no attribute 'get'\n",
            "Error processing IMDB ID tt1151506: 'NoneType' object has no attribute 'get'\n",
            "ERROR:root:Error processing movie ID tt1151506: 'NoneType' object has no attribute 'get'\n",
            "Error processing movie ID tt1151506: 'NoneType' object has no attribute 'get'\n",
            "ERROR:root:Error processing IMDB ID tt1151507: 'NoneType' object has no attribute 'get'\n",
            "Error processing IMDB ID tt1151507: 'NoneType' object has no attribute 'get'\n",
            "ERROR:root:Error processing movie ID tt1151507: 'NoneType' object has no attribute 'get'\n",
            "Error processing movie ID tt1151507: 'NoneType' object has no attribute 'get'\n",
            "ERROR:root:Error processing IMDB ID tt1151508: 'NoneType' object has no attribute 'get'\n",
            "Error processing IMDB ID tt1151508: 'NoneType' object has no attribute 'get'\n",
            "ERROR:root:Error processing movie ID tt1151508: 'NoneType' object has no attribute 'get'\n",
            "Error processing movie ID tt1151508: 'NoneType' object has no attribute 'get'\n",
            "ERROR:root:Error processing IMDB ID tt1151509: 'NoneType' object has no attribute 'get'\n",
            "Error processing IMDB ID tt1151509: 'NoneType' object has no attribute 'get'\n",
            "ERROR:root:Error processing movie ID tt1151509: 'NoneType' object has no attribute 'get'\n",
            "Error processing movie ID tt1151509: 'NoneType' object has no attribute 'get'\n",
            "ERROR:root:Error processing IMDB ID tt1151510: 'NoneType' object has no attribute 'get'\n",
            "Error processing IMDB ID tt1151510: 'NoneType' object has no attribute 'get'\n",
            "ERROR:root:Error processing movie ID tt1151510: 'NoneType' object has no attribute 'get'\n",
            "Error processing movie ID tt1151510: 'NoneType' object has no attribute 'get'\n",
            "ERROR:root:Error processing IMDB ID tt1151511: 'NoneType' object has no attribute 'get'\n",
            "Error processing IMDB ID tt1151511: 'NoneType' object has no attribute 'get'\n",
            "ERROR:root:Error processing movie ID tt1151511: 'NoneType' object has no attribute 'get'\n",
            "Error processing movie ID tt1151511: 'NoneType' object has no attribute 'get'\n",
            "ERROR:root:Error processing IMDB ID tt1151517: 'NoneType' object has no attribute 'get'\n",
            "Error processing IMDB ID tt1151517: 'NoneType' object has no attribute 'get'\n",
            "ERROR:root:Error processing movie ID tt1151517: 'NoneType' object has no attribute 'get'\n",
            "Error processing movie ID tt1151517: 'NoneType' object has no attribute 'get'\n",
            "ERROR:root:Error processing IMDB ID tt1151544: 'NoneType' object has no attribute 'get'\n",
            "Error processing IMDB ID tt1151544: 'NoneType' object has no attribute 'get'\n",
            "ERROR:root:Error processing movie ID tt1151544: 'NoneType' object has no attribute 'get'\n",
            "Error processing movie ID tt1151544: 'NoneType' object has no attribute 'get'\n",
            "ERROR:root:Error processing IMDB ID tt1151617: 'NoneType' object has no attribute 'get'\n",
            "Error processing IMDB ID tt1151617: 'NoneType' object has no attribute 'get'\n",
            "ERROR:root:Error processing movie ID tt1151617: 'NoneType' object has no attribute 'get'\n",
            "Error processing movie ID tt1151617: 'NoneType' object has no attribute 'get'\n",
            "ERROR:root:Error processing IMDB ID tt1151912: 'NoneType' object has no attribute 'get'\n",
            "Error processing IMDB ID tt1151912: 'NoneType' object has no attribute 'get'\n",
            "ERROR:root:Error processing movie ID tt1151912: 'NoneType' object has no attribute 'get'\n",
            "Error processing movie ID tt1151912: 'NoneType' object has no attribute 'get'\n",
            "ERROR:root:Error processing IMDB ID tt1151913: 'NoneType' object has no attribute 'get'\n",
            "Error processing IMDB ID tt1151913: 'NoneType' object has no attribute 'get'\n",
            "ERROR:root:Error processing movie ID tt1151913: 'NoneType' object has no attribute 'get'\n",
            "Error processing movie ID tt1151913: 'NoneType' object has no attribute 'get'\n",
            "ERROR:root:Error processing IMDB ID tt1151917: 'NoneType' object has no attribute 'get'\n",
            "Error processing IMDB ID tt1151917: 'NoneType' object has no attribute 'get'\n",
            "ERROR:root:Error processing movie ID tt1151917: 'NoneType' object has no attribute 'get'\n",
            "Error processing movie ID tt1151917: 'NoneType' object has no attribute 'get'\n",
            "ERROR:root:Error processing IMDB ID tt1151926: 'NoneType' object has no attribute 'get'\n",
            "Error processing IMDB ID tt1151926: 'NoneType' object has no attribute 'get'\n",
            "ERROR:root:Error processing movie ID tt1151926: 'NoneType' object has no attribute 'get'\n",
            "Error processing movie ID tt1151926: 'NoneType' object has no attribute 'get'\n",
            "ERROR:root:Error processing IMDB ID tt1152400: 'NoneType' object has no attribute 'get'\n",
            "Error processing IMDB ID tt1152400: 'NoneType' object has no attribute 'get'\n",
            "ERROR:root:Error processing movie ID tt1152400: 'NoneType' object has no attribute 'get'\n",
            "Error processing movie ID tt1152400: 'NoneType' object has no attribute 'get'\n",
            "ERROR:root:Error processing IMDB ID tt1152705: 'NoneType' object has no attribute 'get'\n",
            "Error processing IMDB ID tt1152705: 'NoneType' object has no attribute 'get'\n",
            "ERROR:root:Error processing movie ID tt1152705: 'NoneType' object has no attribute 'get'\n",
            "Error processing movie ID tt1152705: 'NoneType' object has no attribute 'get'\n",
            "ERROR:root:Error processing IMDB ID tt1152709: 'NoneType' object has no attribute 'get'\n",
            "Error processing IMDB ID tt1152709: 'NoneType' object has no attribute 'get'\n",
            "ERROR:root:Error processing movie ID tt1152709: 'NoneType' object has no attribute 'get'\n",
            "Error processing movie ID tt1152709: 'NoneType' object has no attribute 'get'\n",
            "ERROR:root:Error processing IMDB ID tt1152729: 'NoneType' object has no attribute 'get'\n",
            "Error processing IMDB ID tt1152729: 'NoneType' object has no attribute 'get'\n",
            "ERROR:root:Error processing movie ID tt1152729: 'NoneType' object has no attribute 'get'\n",
            "Error processing movie ID tt1152729: 'NoneType' object has no attribute 'get'\n",
            "ERROR:root:Error processing IMDB ID tt1152816: 'NoneType' object has no attribute 'get'\n",
            "Error processing IMDB ID tt1152816: 'NoneType' object has no attribute 'get'\n",
            "ERROR:root:Error processing movie ID tt1152816: 'NoneType' object has no attribute 'get'\n",
            "Error processing movie ID tt1152816: 'NoneType' object has no attribute 'get'\n",
            "ERROR:root:Error processing IMDB ID tt1152826: 'NoneType' object has no attribute 'get'\n",
            "Error processing IMDB ID tt1152826: 'NoneType' object has no attribute 'get'\n",
            "ERROR:root:Error processing movie ID tt1152826: 'NoneType' object has no attribute 'get'\n",
            "Error processing movie ID tt1152826: 'NoneType' object has no attribute 'get'\n",
            "ERROR:root:Error processing IMDB ID tt1152829: 'NoneType' object has no attribute 'get'\n",
            "Error processing IMDB ID tt1152829: 'NoneType' object has no attribute 'get'\n",
            "ERROR:root:Error processing movie ID tt1152829: 'NoneType' object has no attribute 'get'\n",
            "Error processing movie ID tt1152829: 'NoneType' object has no attribute 'get'\n",
            "ERROR:root:Error processing IMDB ID tt1152841: 'NoneType' object has no attribute 'get'\n",
            "Error processing IMDB ID tt1152841: 'NoneType' object has no attribute 'get'\n",
            "ERROR:root:Error processing movie ID tt1152841: 'NoneType' object has no attribute 'get'\n",
            "Error processing movie ID tt1152841: 'NoneType' object has no attribute 'get'\n",
            "ERROR:root:Error processing IMDB ID tt1152848: 'NoneType' object has no attribute 'get'\n",
            "Error processing IMDB ID tt1152848: 'NoneType' object has no attribute 'get'\n",
            "ERROR:root:Error processing movie ID tt1152848: 'NoneType' object has no attribute 'get'\n",
            "Error processing movie ID tt1152848: 'NoneType' object has no attribute 'get'\n",
            "ERROR:root:Error processing IMDB ID tt1152852: 'NoneType' object has no attribute 'get'\n",
            "Error processing IMDB ID tt1152852: 'NoneType' object has no attribute 'get'\n",
            "ERROR:root:Error processing movie ID tt1152852: 'NoneType' object has no attribute 'get'\n",
            "Error processing movie ID tt1152852: 'NoneType' object has no attribute 'get'\n",
            "ERROR:root:Error processing IMDB ID tt1153038: 'NoneType' object has no attribute 'get'\n",
            "Error processing IMDB ID tt1153038: 'NoneType' object has no attribute 'get'\n",
            "ERROR:root:Error processing movie ID tt1153038: 'NoneType' object has no attribute 'get'\n",
            "Error processing movie ID tt1153038: 'NoneType' object has no attribute 'get'\n",
            "ERROR:root:Error processing IMDB ID tt1153050: 'NoneType' object has no attribute 'get'\n",
            "Error processing IMDB ID tt1153050: 'NoneType' object has no attribute 'get'\n",
            "ERROR:root:Error processing movie ID tt1153050: 'NoneType' object has no attribute 'get'\n",
            "Error processing movie ID tt1153050: 'NoneType' object has no attribute 'get'\n",
            "ERROR:root:Error processing IMDB ID tt1153090: 'NoneType' object has no attribute 'get'\n",
            "Error processing IMDB ID tt1153090: 'NoneType' object has no attribute 'get'\n",
            "ERROR:root:Error processing movie ID tt1153090: 'NoneType' object has no attribute 'get'\n",
            "Error processing movie ID tt1153090: 'NoneType' object has no attribute 'get'\n",
            "ERROR:root:Error processing IMDB ID tt1153091: 'NoneType' object has no attribute 'get'\n",
            "Error processing IMDB ID tt1153091: 'NoneType' object has no attribute 'get'\n",
            "ERROR:root:Error processing movie ID tt1153091: 'NoneType' object has no attribute 'get'\n",
            "Error processing movie ID tt1153091: 'NoneType' object has no attribute 'get'\n",
            "ERROR:root:Error processing IMDB ID tt1153539: 'NoneType' object has no attribute 'get'\n",
            "Error processing IMDB ID tt1153539: 'NoneType' object has no attribute 'get'\n",
            "ERROR:root:Error processing movie ID tt1153539: 'NoneType' object has no attribute 'get'\n",
            "Error processing movie ID tt1153539: 'NoneType' object has no attribute 'get'\n",
            "ERROR:root:Error processing IMDB ID tt1153541: 'NoneType' object has no attribute 'get'\n",
            "Error processing IMDB ID tt1153541: 'NoneType' object has no attribute 'get'\n",
            "ERROR:root:Error processing movie ID tt1153541: 'NoneType' object has no attribute 'get'\n",
            "Error processing movie ID tt1153541: 'NoneType' object has no attribute 'get'\n",
            "ERROR:root:Error processing IMDB ID tt1153650: 'NoneType' object has no attribute 'get'\n",
            "Error processing IMDB ID tt1153650: 'NoneType' object has no attribute 'get'\n",
            "ERROR:root:Error processing movie ID tt1153650: 'NoneType' object has no attribute 'get'\n",
            "Error processing movie ID tt1153650: 'NoneType' object has no attribute 'get'\n",
            "ERROR:root:Error processing IMDB ID tt1153705: 'NoneType' object has no attribute 'get'\n",
            "Error processing IMDB ID tt1153705: 'NoneType' object has no attribute 'get'\n",
            "ERROR:root:Error processing movie ID tt1153705: 'NoneType' object has no attribute 'get'\n",
            "Error processing movie ID tt1153705: 'NoneType' object has no attribute 'get'\n",
            "ERROR:root:Error processing IMDB ID tt1154169: 'NoneType' object has no attribute 'get'\n",
            "Error processing IMDB ID tt1154169: 'NoneType' object has no attribute 'get'\n",
            "ERROR:root:Error processing movie ID tt1154169: 'NoneType' object has no attribute 'get'\n",
            "Error processing movie ID tt1154169: 'NoneType' object has no attribute 'get'\n",
            "ERROR:root:Error processing IMDB ID tt1154207: 'NoneType' object has no attribute 'get'\n",
            "Error processing IMDB ID tt1154207: 'NoneType' object has no attribute 'get'\n",
            "ERROR:root:Error processing movie ID tt1154207: 'NoneType' object has no attribute 'get'\n",
            "Error processing movie ID tt1154207: 'NoneType' object has no attribute 'get'\n",
            "ERROR:root:Error processing IMDB ID tt1154534: 'NoneType' object has no attribute 'get'\n",
            "Error processing IMDB ID tt1154534: 'NoneType' object has no attribute 'get'\n",
            "ERROR:root:Error processing movie ID tt1154534: 'NoneType' object has no attribute 'get'\n",
            "Error processing movie ID tt1154534: 'NoneType' object has no attribute 'get'\n",
            "ERROR:root:Error processing IMDB ID tt1155047: 'NoneType' object has no attribute 'get'\n",
            "Error processing IMDB ID tt1155047: 'NoneType' object has no attribute 'get'\n",
            "ERROR:root:Error processing movie ID tt1155047: 'NoneType' object has no attribute 'get'\n",
            "Error processing movie ID tt1155047: 'NoneType' object has no attribute 'get'\n",
            "ERROR:root:Error processing IMDB ID tt1155049: 'NoneType' object has no attribute 'get'\n",
            "Error processing IMDB ID tt1155049: 'NoneType' object has no attribute 'get'\n",
            "ERROR:root:Error processing movie ID tt1155049: 'NoneType' object has no attribute 'get'\n",
            "Error processing movie ID tt1155049: 'NoneType' object has no attribute 'get'\n",
            "ERROR:root:Error processing IMDB ID tt1155061: 'NoneType' object has no attribute 'get'\n",
            "Error processing IMDB ID tt1155061: 'NoneType' object has no attribute 'get'\n",
            "ERROR:root:Error processing movie ID tt1155061: 'NoneType' object has no attribute 'get'\n",
            "Error processing movie ID tt1155061: 'NoneType' object has no attribute 'get'\n",
            "ERROR:root:Error processing IMDB ID tt1155063: 'NoneType' object has no attribute 'get'\n",
            "Error processing IMDB ID tt1155063: 'NoneType' object has no attribute 'get'\n",
            "ERROR:root:Error processing movie ID tt1155063: 'NoneType' object has no attribute 'get'\n",
            "Error processing movie ID tt1155063: 'NoneType' object has no attribute 'get'\n",
            "ERROR:root:Error processing IMDB ID tt1155064: 'NoneType' object has no attribute 'get'\n",
            "Error processing IMDB ID tt1155064: 'NoneType' object has no attribute 'get'\n",
            "ERROR:root:Error processing movie ID tt1155064: 'NoneType' object has no attribute 'get'\n",
            "Error processing movie ID tt1155064: 'NoneType' object has no attribute 'get'\n",
            "ERROR:root:Error processing IMDB ID tt1155070: 'NoneType' object has no attribute 'get'\n",
            "Error processing IMDB ID tt1155070: 'NoneType' object has no attribute 'get'\n",
            "ERROR:root:Error processing movie ID tt1155070: 'NoneType' object has no attribute 'get'\n",
            "Error processing movie ID tt1155070: 'NoneType' object has no attribute 'get'\n",
            "ERROR:root:Error processing IMDB ID tt1155072: 'NoneType' object has no attribute 'get'\n",
            "Error processing IMDB ID tt1155072: 'NoneType' object has no attribute 'get'\n",
            "ERROR:root:Error processing movie ID tt1155072: 'NoneType' object has no attribute 'get'\n",
            "Error processing movie ID tt1155072: 'NoneType' object has no attribute 'get'\n"
          ]
        }
      ],
      "source": [
        "import time\n",
        "import pandas as pd\n",
        "import logging\n",
        "\n",
        "\n",
        "\n",
        "\n",
        "movies_data = []\n",
        "\n",
        "for i in range(1151438, 1200000):\n",
        "    movie_id = f\"tt{i:07}\"\n",
        "    try:\n",
        "        movie_data = scrapIMDB(movie_id)\n",
        "        if movie_data:\n",
        "            movies_data.append(movie_data)\n",
        "        else:\n",
        "            logging.info(f\"Movie ID {movie_id} does not exist or data could not be fetched.\")\n",
        "    except Exception as e:\n",
        "        logging.error(f\"Error processing movie ID {movie_id}: {e}\")\n",
        "\n",
        "    time.sleep(0.6)\n",
        "\n"
      ]
    },
    {
      "cell_type": "code",
      "execution_count": null,
      "metadata": {
        "colab": {
          "base_uri": "https://localhost:8080/",
          "height": 17
        },
        "id": "5-3fxYcFMkTW",
        "outputId": "94aa2703-07ea-4042-9790-2f2f9d770e34"
      },
      "outputs": [
        {
          "data": {
            "application/javascript": [
              "\n",
              "    async function download(id, filename, size) {\n",
              "      if (!google.colab.kernel.accessAllowed) {\n",
              "        return;\n",
              "      }\n",
              "      const div = document.createElement('div');\n",
              "      const label = document.createElement('label');\n",
              "      label.textContent = `Downloading \"${filename}\": `;\n",
              "      div.appendChild(label);\n",
              "      const progress = document.createElement('progress');\n",
              "      progress.max = size;\n",
              "      div.appendChild(progress);\n",
              "      document.body.appendChild(div);\n",
              "\n",
              "      const buffers = [];\n",
              "      let downloaded = 0;\n",
              "\n",
              "      const channel = await google.colab.kernel.comms.open(id);\n",
              "      // Send a message to notify the kernel that we're ready.\n",
              "      channel.send({})\n",
              "\n",
              "      for await (const message of channel.messages) {\n",
              "        // Send a message to notify the kernel that we're ready.\n",
              "        channel.send({})\n",
              "        if (message.buffers) {\n",
              "          for (const buffer of message.buffers) {\n",
              "            buffers.push(buffer);\n",
              "            downloaded += buffer.byteLength;\n",
              "            progress.value = downloaded;\n",
              "          }\n",
              "        }\n",
              "      }\n",
              "      const blob = new Blob(buffers, {type: 'application/binary'});\n",
              "      const a = document.createElement('a');\n",
              "      a.href = window.URL.createObjectURL(blob);\n",
              "      a.download = filename;\n",
              "      div.appendChild(a);\n",
              "      a.click();\n",
              "      div.remove();\n",
              "    }\n",
              "  "
            ],
            "text/plain": [
              "<IPython.core.display.Javascript object>"
            ]
          },
          "metadata": {},
          "output_type": "display_data"
        },
        {
          "data": {
            "application/javascript": [
              "download(\"download_ff448783-5109-4094-ad18-77d91b745f21\", \"movie_data.csv\", 659255)"
            ],
            "text/plain": [
              "<IPython.core.display.Javascript object>"
            ]
          },
          "metadata": {},
          "output_type": "display_data"
        }
      ],
      "source": [
        "from google.colab import files\n",
        "\n",
        "\n",
        "df = pd.DataFrame(movies_data)\n",
        "\n",
        "\n",
        "csv_file = \"movie_data.csv\"\n",
        "df.to_csv(csv_file, sep=';', index=False)\n",
        "\n",
        "\n",
        "files.download(csv_file)\n"
      ]
    },
    {
      "cell_type": "code",
      "execution_count": null,
      "metadata": {
        "id": "qY8f9gPnqBWH"
      },
      "outputs": [],
      "source": []
    }
  ],
  "metadata": {
    "colab": {
      "provenance": []
    },
    "kernelspec": {
      "display_name": "Python 3",
      "name": "python3"
    },
    "language_info": {
      "name": "python"
    }
  },
  "nbformat": 4,
  "nbformat_minor": 0
}