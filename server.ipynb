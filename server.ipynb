{
  "nbformat": 4,
  "nbformat_minor": 0,
  "metadata": {
    "colab": {
      "provenance": []
    },
    "kernelspec": {
      "name": "python3",
      "display_name": "Python 3"
    },
    "language_info": {
      "name": "python"
    }
  },
  "cells": [
    {
      "cell_type": "code",
      "source": [
        "import re\n",
        "import pandas as pd\n",
        "import numpy as np\n"
      ],
      "metadata": {
        "id": "brCQWprXm6bW"
      },
      "execution_count": null,
      "outputs": []
    },
    {
      "cell_type": "markdown",
      "source": [
        "### Date"
      ],
      "metadata": {
        "id": "miAZYIiBntkF"
      }
    },
    {
      "cell_type": "code",
      "source": [
        "def normalise_date(date):\n",
        "  if pd.isna(date):\n",
        "    return date\n",
        "  date = re.sub(r'(\\d{2})[-/](\\d{2})[-/](\\d{4})', r'\\3-\\2-\\1', date)\n",
        "  date = re.sub(r'(\\d{4})[-/](\\d{2})[-/](\\d{2})', r'\\1-\\2-\\3', date)\n",
        "  return date"
      ],
      "metadata": {
        "id": "SwGHIh9xm2Fu"
      },
      "execution_count": null,
      "outputs": []
    },
    {
      "cell_type": "markdown",
      "source": [
        "### Actor And Genre Transformation"
      ],
      "metadata": {
        "id": "0fPvRaFnnyQM"
      }
    },
    {
      "cell_type": "code",
      "source": [
        "import pickle\n",
        "\n",
        "# Load the dictionary from the pickle file\n",
        "with open('mapGenreAndActorToScore.pkl', 'rb') as f:\n",
        "    mapGenreAndActorToScore = pickle.load(f)\n",
        "\n"
      ],
      "metadata": {
        "id": "_qMfgeHjmAoQ"
      },
      "execution_count": null,
      "outputs": []
    },
    {
      "cell_type": "code",
      "source": [
        "# Example: Get the score for actor \"Tom Hanks\" in genre \"Comedy\"\n",
        "actor = \"Tom Cruise\"\n",
        "genre = \"Comedy\"\n",
        "if (actor, genre) in mapGenreAndActorToScore:\n",
        "    score = mapGenreAndActorToScore[(actor, genre)]\n",
        "    print(f\"The score for {actor} in {genre} is {score}\")\n",
        "else:\n",
        "    print(f\"No score found for {actor} in {genre}\")\n"
      ],
      "metadata": {
        "colab": {
          "base_uri": "https://localhost:8080/"
        },
        "id": "UFHtH8VcmQmg",
        "outputId": "01a42caa-2836-4af4-8889-cb786f0f501e"
      },
      "execution_count": null,
      "outputs": [
        {
          "output_type": "stream",
          "name": "stdout",
          "text": [
            "The score for Tom Cruise in Comedy is 6.5\n"
          ]
        }
      ]
    },
    {
      "cell_type": "code",
      "source": [
        "RATING_VALUE_MEAN=6.5"
      ],
      "metadata": {
        "id": "DEftAMnNoLLE"
      },
      "execution_count": null,
      "outputs": []
    },
    {
      "cell_type": "code",
      "source": [
        "def compute_actor_genre_score(row):\n",
        "    actor_genre_pairs = [(actor, genre) for actor in row['actors'] for genre in row['genre']]\n",
        "    scores = [mapGenreAndActorToScore.get(pair,RATING_VALUE_MEAN) for pair in actor_genre_pairs]\n",
        "    if len(scores)>=1:\n",
        "      return sum(scores) / len(scores)\n",
        "    return RATING_VALUE_MEAN"
      ],
      "metadata": {
        "id": "DRXW_EyKnpys"
      },
      "execution_count": null,
      "outputs": []
    },
    {
      "cell_type": "markdown",
      "source": [
        "### Director Transformation"
      ],
      "metadata": {
        "id": "_4ADGyzgoSwN"
      }
    },
    {
      "cell_type": "code",
      "source": [
        "import pickle\n",
        "\n",
        "# Load the dictionary from the pickle file\n",
        "with open('mapDirectorToScore.pkl', 'rb') as f:\n",
        "    mapDirectorToScore = pickle.load(f)\n",
        "\n"
      ],
      "metadata": {
        "id": "QwuGrrhlnbgV"
      },
      "execution_count": null,
      "outputs": []
    },
    {
      "cell_type": "code",
      "source": [
        "def compute_director_score(row):\n",
        "    scores = [mapDirectorToScore.get(director,RATING_VALUE_MEAN) for director in row[\"directors\"]]\n",
        "    if len(scores)>=1:\n",
        "      return sum(scores) / len(scores)\n",
        "    return RATING_VALUE_MEAN"
      ],
      "metadata": {
        "id": "UKRWL_YtnkJV"
      },
      "execution_count": null,
      "outputs": []
    },
    {
      "cell_type": "markdown",
      "source": [
        "### Creator Transformation"
      ],
      "metadata": {
        "id": "IKD35fweotEk"
      }
    },
    {
      "cell_type": "code",
      "source": [
        "import pickle\n",
        "\n",
        "# Load the dictionary from the pickle file\n",
        "with open('mapCreatorToScore.pkl', 'rb') as f:\n",
        "    mapCreatorToScore = pickle.load(f)\n",
        "\n"
      ],
      "metadata": {
        "id": "6xp3Y-BYnq7P"
      },
      "execution_count": null,
      "outputs": []
    },
    {
      "cell_type": "code",
      "source": [
        "def compute_creator_score(row):\n",
        "    scores = [mapCreatorToScore.get(creator,RATING_VALUE_MEAN) for creator in row[\"creators\"]]\n",
        "    if len(scores)>=1:\n",
        "      return sum(scores) / len(scores)\n",
        "    return RATING_VALUE_MEAN"
      ],
      "metadata": {
        "id": "yRqr58CSozVM"
      },
      "execution_count": null,
      "outputs": []
    },
    {
      "cell_type": "markdown",
      "source": [
        "### Keywords Transformation"
      ],
      "metadata": {
        "id": "dl6nfm-ko9Bd"
      }
    },
    {
      "cell_type": "code",
      "source": [
        "import pickle\n",
        "\n",
        "# Load the dictionary from the pickle file\n",
        "with open('mapkeywordToScore.pkl', 'rb') as f:\n",
        "    mapkeywordToScore = pickle.load(f)\n",
        "\n"
      ],
      "metadata": {
        "id": "2TfEWUz8o0GM"
      },
      "execution_count": null,
      "outputs": []
    },
    {
      "cell_type": "code",
      "source": [
        "def compute_keyword_score(row):\n",
        "    scores = [mapkeywordToScore.get(keyword,RATING_VALUE_MEAN) for keyword in row[\"keywords\"]]\n",
        "    if len(scores)>=1:\n",
        "      return sum(scores) / len(scores)\n",
        "    return RATING_VALUE_MEAN"
      ],
      "metadata": {
        "id": "kRQQPE-6pImU"
      },
      "execution_count": null,
      "outputs": []
    },
    {
      "cell_type": "markdown",
      "source": [
        "### todayAgoPublished"
      ],
      "metadata": {
        "id": "6K3vmxWKpV5j"
      }
    },
    {
      "cell_type": "code",
      "source": [
        "def todayAgoPublished(date):\n",
        "  return (pd.to_datetime(\"01-01-2025\") - date).days"
      ],
      "metadata": {
        "id": "A-xLktf-pJRz"
      },
      "execution_count": null,
      "outputs": []
    },
    {
      "cell_type": "code",
      "source": [
        "# prompt: call the todayAgoPublished with an example\n",
        "\n",
        "import pandas as pd\n",
        "\n",
        "# Example usage of todayAgoPublished\n",
        "example_date = pd.to_datetime('01-10-2025')\n",
        "days_ago = todayAgoPublished(example_date)\n",
        "days_ago\n"
      ],
      "metadata": {
        "colab": {
          "base_uri": "https://localhost:8080/"
        },
        "id": "UhL5jRUypfdJ",
        "outputId": "a5abbebc-e5d8-4925-b907-55a3a9b0b7c6"
      },
      "execution_count": null,
      "outputs": [
        {
          "output_type": "execute_result",
          "data": {
            "text/plain": [
              "-9"
            ]
          },
          "metadata": {},
          "execution_count": 44
        }
      ]
    },
    {
      "cell_type": "markdown",
      "source": [
        "### Minutes"
      ],
      "metadata": {
        "id": "waQhb7fBqwOa"
      }
    },
    {
      "cell_type": "code",
      "source": [
        "def convert_to_minutes(duration):\n",
        "    try:\n",
        "        if pd.isna(duration) or duration == 'nan':\n",
        "            return None\n",
        "\n",
        "        hours = 0\n",
        "        minutes = 0\n",
        "\n",
        "        hour_match = re.search(r'PT(\\d+)H', duration)\n",
        "        minute_match = re.search(r'(\\d+)M', duration)\n",
        "\n",
        "        if hour_match:\n",
        "            hours = int(hour_match.group(1))\n",
        "        if minute_match:\n",
        "            minutes = int(minute_match.group(1))\n",
        "\n",
        "        total_minutes = hours * 60 + minutes\n",
        "        return  total_minutes\n",
        "\n",
        "    except Exception as e:\n",
        "        print(f\"invalid conversion of {duration}\")\n",
        "        return  None\n",
        "\n"
      ],
      "metadata": {
        "id": "uDAG5ZYCpiSw"
      },
      "execution_count": null,
      "outputs": []
    },
    {
      "cell_type": "markdown",
      "source": [
        "### Content Rating"
      ],
      "metadata": {
        "id": "SVd5eFrCrKCi"
      }
    },
    {
      "cell_type": "code",
      "source": [
        "rating_to_age = {\n",
        "    'nan': None,\n",
        "    'Not Rated': None,\n",
        "    'TV-14': 14,\n",
        "    'TV-PG': 10,\n",
        "    'PG-13': 13,\n",
        "    'R': 17,\n",
        "    'X': 18,\n",
        "    'PG': 10,\n",
        "    'TV-Y': 0,\n",
        "    'TV-MA': 17,\n",
        "    'TV-G': 0,\n",
        "    'TV-Y7': 7,\n",
        "    'Unrated': None,\n",
        "    'Approved': 0,\n",
        "    'E': 0,\n",
        "    'K-A': 0,\n",
        "    'M': 18,\n",
        "    'TV-Y7-FV': 7,\n",
        "    'E10+': 10,\n",
        "    'T': 10,\n",
        "    'G': 0,\n",
        "    '18+': 18,\n",
        "    '16+': 16,\n",
        "    '6+': 6,\n",
        "    '12+': 12,\n",
        "    '13+': 13,\n",
        "    'NC-17': 17,\n",
        "    'EC': 3,\n",
        "    'GP': 0\n",
        "}"
      ],
      "metadata": {
        "id": "nvQWlr6brMEH"
      },
      "execution_count": null,
      "outputs": []
    },
    {
      "cell_type": "code",
      "source": [
        "def convert_rating_to_age(rating):\n",
        "    return rating_to_age.get(rating, None )"
      ],
      "metadata": {
        "id": "ZQ1gY9d_rRDZ"
      },
      "execution_count": null,
      "outputs": []
    },
    {
      "cell_type": "markdown",
      "source": [
        "### Budget"
      ],
      "metadata": {
        "id": "dqz7ajWVrpkh"
      }
    },
    {
      "cell_type": "code",
      "source": [
        "MEDIAN_BUDGET = 15.0"
      ],
      "metadata": {
        "id": "39XwB0BarWOP"
      },
      "execution_count": null,
      "outputs": []
    },
    {
      "cell_type": "markdown",
      "source": [
        "### Minutes"
      ],
      "metadata": {
        "id": "7NLNaJjJsYFx"
      }
    },
    {
      "cell_type": "code",
      "source": [
        "MEAN_MINUTES = 48.09870499600736"
      ],
      "metadata": {
        "id": "KvNHcTGhsbqg"
      },
      "execution_count": null,
      "outputs": []
    },
    {
      "cell_type": "markdown",
      "source": [
        "### Today ago published"
      ],
      "metadata": {
        "id": "pZ6G-vQKs1FZ"
      }
    },
    {
      "cell_type": "code",
      "source": [
        "MEDIAN_TODAY_AGO_PUBLISHED =6354.0"
      ],
      "metadata": {
        "id": "K4GQh-TTsmOC"
      },
      "execution_count": null,
      "outputs": []
    },
    {
      "cell_type": "markdown",
      "source": [
        "### Min age by default"
      ],
      "metadata": {
        "id": "4ERlNbNWtBiJ"
      }
    },
    {
      "cell_type": "code",
      "source": [
        "min_age_by_default = 14"
      ],
      "metadata": {
        "id": "YUeJn6k1s3wI"
      },
      "execution_count": null,
      "outputs": []
    },
    {
      "cell_type": "markdown",
      "source": [
        "# Convert function"
      ],
      "metadata": {
        "id": "WBEvoTNytkFp"
      }
    },
    {
      "cell_type": "code",
      "source": [
        "def convert(movie_data):\n",
        "  movie_data[\"datePublished\"] = normalise_date(movie_data[\"datePublished\"])"
      ],
      "metadata": {
        "id": "NF9MXXbPtnbR"
      },
      "execution_count": null,
      "outputs": []
    },
    {
      "cell_type": "markdown",
      "source": [
        "## Example"
      ],
      "metadata": {
        "id": "92POnO40tWCQ"
      }
    },
    {
      "cell_type": "code",
      "source": [
        "import re\n",
        "import pandas as pd\n",
        "import ast\n",
        "import pickle\n",
        "import numpy as np\n",
        "from sklearn.preprocessing import StandardScaler\n",
        "\n",
        "\n",
        "# Load transformation mappings\n",
        "with open('mapGenreAndActorToScore.pkl', 'rb') as f:\n",
        "    mapGenreAndActorToScore = pickle.load(f)\n",
        "\n",
        "with open('mapDirectorToScore.pkl', 'rb') as f:\n",
        "    mapDirectorToScore = pickle.load(f)\n",
        "\n",
        "with open('mapCreatorToScore.pkl', 'rb') as f:\n",
        "    mapCreatorToScore = pickle.load(f)\n",
        "\n",
        "with open('mapkeywordToScore.pkl', 'rb') as f:\n",
        "    mapkeywordToScore = pickle.load(f)\n",
        "\n",
        "# Constants\n",
        "RATING_VALUE_MEAN = 6.5\n",
        "MEDIAN_BUDGET = 15.0\n",
        "MEAN_MINUTES = 48.1\n",
        "MEDIAN_TODAY_AGO_PUBLISHED = 6354.0\n",
        "min_age_by_default = 14\n",
        "rating_to_age = {\n",
        "    'nan': None, 'Not Rated': None, 'TV-14': 14, 'TV-PG': 10, 'PG-13': 13,\n",
        "    'R': 17, 'X': 18, 'PG': 10, 'TV-Y': 0, 'TV-MA': 17, 'TV-G': 0, 'TV-Y7': 7,\n",
        "    'Unrated': None, 'Approved': 0, 'E': 0, 'K-A': 0, 'M': 18, 'TV-Y7-FV': 7,\n",
        "    'E10+': 10, 'T': 10, 'G': 0, '18+': 18, '16+': 16, '6+': 6, '12+': 12,\n",
        "    '13+': 13, 'NC-17': 17, 'EC': 3, 'GP': 0\n",
        "}\n",
        "\n",
        "def normalise_date(date):\n",
        "    if pd.isna(date):\n",
        "        return None\n",
        "    date = re.sub(r'(\\d{2})[-/](\\d{2})[-/](\\d{4})', r'\\3-\\2-\\1', date)\n",
        "    date = re.sub(r'(\\d{4})[-/](\\d{2})[-/](\\d{2})', r'\\1-\\2-\\3', date)\n",
        "    return date\n",
        "\n",
        "def compute_actor_genre_score(actors, genres):\n",
        "    actor_genre_pairs = [(actor, genre) for actor in actors for genre in genres]\n",
        "    scores = [mapGenreAndActorToScore.get(pair, RATING_VALUE_MEAN) for pair in actor_genre_pairs]\n",
        "    return sum(scores) / len(scores) if scores else RATING_VALUE_MEAN\n",
        "\n",
        "def compute_director_score(directors):\n",
        "    scores = [mapDirectorToScore.get(d, RATING_VALUE_MEAN) for d in directors]\n",
        "    return sum(scores) / len(scores) if scores else RATING_VALUE_MEAN\n",
        "\n",
        "def compute_creator_score(creators):\n",
        "    scores = [mapCreatorToScore.get(c, RATING_VALUE_MEAN) for c in creators]\n",
        "    return sum(scores) / len(scores) if scores else RATING_VALUE_MEAN\n",
        "\n",
        "def compute_keyword_score(keywords):\n",
        "    scores = [mapkeywordToScore.get(k, RATING_VALUE_MEAN) for k in keywords]\n",
        "    return sum(scores) / len(scores) if scores else RATING_VALUE_MEAN\n",
        "\n",
        "def todayAgoPublished(date):\n",
        "    try:\n",
        "        date = pd.to_datetime(date)\n",
        "        return (pd.to_datetime(\"2025-01-01\") - date).days\n",
        "    except:\n",
        "        return MEDIAN_TODAY_AGO_PUBLISHED\n",
        "\n",
        "def convert_to_minutes(duration):\n",
        "    if pd.isna(duration) or duration == 'nan':\n",
        "        return None\n",
        "    hours = minutes = 0\n",
        "    hour_match = re.search(r'PT(\\d+)H', duration)\n",
        "    minute_match = re.search(r'(\\d+)M', duration)\n",
        "    if hour_match:\n",
        "        hours = int(hour_match.group(1))\n",
        "    if minute_match:\n",
        "        minutes = int(minute_match.group(1))\n",
        "    return hours * 60 + minutes if hours or minutes else MEAN_MINUTES\n",
        "\n",
        "def convert_rating_to_age(rating):\n",
        "    return rating_to_age.get(rating, min_age_by_default)\n",
        "\n",
        "def parse_list(value):\n",
        "    try:\n",
        "        return [item['name'] for item in ast.literal_eval(value)] if value else []\n",
        "    except:\n",
        "        return []\n",
        "\n",
        "def convert(movie_data):\n",
        "    return {\n",
        "        \"ratingCount\": movie_data.get(\"ratingCount\", 0),\n",
        "        \"budget\": movie_data.get(\"budget\", MEDIAN_BUDGET),\n",
        "        \"actorsGenresScore\": compute_actor_genre_score(\n",
        "            parse_list(movie_data.get(\"actors\")),\n",
        "            ast.literal_eval(movie_data.get(\"genre\", \"[]\"))\n",
        "        ),\n",
        "        \"directorsScore\": compute_director_score(parse_list(movie_data.get(\"directors\"))),\n",
        "        \"creatorsScore\": compute_creator_score(parse_list(movie_data.get(\"creators\"))),\n",
        "        \"keywordsScore\": compute_keyword_score(movie_data.get(\"keywords\", \"\").split(\",\")),\n",
        "        \"todayAgoPublished\": todayAgoPublished(movie_data.get(\"datePublished\")),\n",
        "        \"minutes\": convert_to_minutes(movie_data.get(\"Minutes\")),\n",
        "        \"minAgeToWatch\": convert_rating_to_age(movie_data.get(\"contentRating\"))\n",
        "    }\n"
      ],
      "metadata": {
        "id": "yxgmgLyYvBmm"
      },
      "execution_count": 2,
      "outputs": []
    },
    {
      "cell_type": "code",
      "source": [
        "movie_data = {\n",
        "    \"imdbId\": \"tt0120812\",\n",
        "    \"name\": \"Rush Hour\",\n",
        "    \"genre\": \"['Action', 'Comedy', 'Crime']\",\n",
        "    \"datePublished\": \"1998-09-18\",\n",
        "    \"contentRating\": \"PG-13\",\n",
        "    \"keywords\": \"child kidnapping,chinese mafia,gun,mobster,organized crime\",\n",
        "    \"ratingCount\": 306205,\n",
        "    \"budget\": 33,\n",
        "    \"Minutes\": \"PT1H38M\",\n",
        "    \"actors\": \"[{'name': 'Jackie Chan', 'id': 'nm0000329'}, {'name': 'Chris Tucker', 'id': 'nm0000676'}, {'name': 'Ken Leung', 'id': 'nm0504962'}]\",\n",
        "    \"directors\": \"[{'name': 'Brett Ratner', 'id': 'nm0711840'}]\",\n",
        "    \"creators\": \"[{'name': '', 'id': ''}, {'name': '', 'id': ''}, {'name': 'Ross LaManna', 'id': 'nm0482780'}, {'name': 'Jim Kouf', 'id': 'nm0467942'}]\"\n",
        "}"
      ],
      "metadata": {
        "id": "B8AqnG3tvEAa"
      },
      "execution_count": 3,
      "outputs": []
    },
    {
      "cell_type": "code",
      "source": [
        "new_data = convert(movie_data)"
      ],
      "metadata": {
        "id": "EKv3FsgGvJjm"
      },
      "execution_count": 4,
      "outputs": []
    },
    {
      "cell_type": "code",
      "source": [
        "print(new_data)"
      ],
      "metadata": {
        "colab": {
          "base_uri": "https://localhost:8080/"
        },
        "id": "664sDvy5xnum",
        "outputId": "91910549-bee1-4606-c684-3146c0c8d529"
      },
      "execution_count": 5,
      "outputs": [
        {
          "output_type": "stream",
          "name": "stdout",
          "text": [
            "{'ratingCount': 306205, 'budget': 33, 'actorsGenresScore': 6.444444444444445, 'directorsScore': 5.2, 'creatorsScore': 6.5901756674206275, 'keywordsScore': 7.431363636363637, 'todayAgoPublished': 9602, 'minutes': 98, 'minAgeToWatch': 13}\n"
          ]
        }
      ]
    },
    {
      "cell_type": "markdown",
      "source": [
        "# Scaling"
      ],
      "metadata": {
        "id": "dRoxa8wjw9VP"
      }
    },
    {
      "cell_type": "code",
      "source": [
        "feature_order = ['ratingCount', 'budget',  'actorsGenresScore',\n",
        "                 'directorsScore', 'creatorsScore', 'keywordsScore',\n",
        "                 'todayAgoPublished','minutes', 'minAgeToWatch']"
      ],
      "metadata": {
        "id": "t06csFNSyAXt"
      },
      "execution_count": 6,
      "outputs": []
    },
    {
      "cell_type": "code",
      "source": [
        "# Load the scaler from the pickle file\n",
        "with open('scaler.pkl', 'rb') as file:\n",
        "    scaler = pickle.load(file)"
      ],
      "metadata": {
        "id": "yNoB8UPcvMa_"
      },
      "execution_count": 7,
      "outputs": []
    },
    {
      "cell_type": "code",
      "source": [
        "data_df = pd.DataFrame([new_data], columns=feature_order)\n",
        "\n",
        "\n",
        "data_df.head()"
      ],
      "metadata": {
        "colab": {
          "base_uri": "https://localhost:8080/",
          "height": 81
        },
        "id": "g5XU48A7XY3H",
        "outputId": "ebf25224-18e5-4a75-f052-ef03e3de804a"
      },
      "execution_count": 10,
      "outputs": [
        {
          "output_type": "execute_result",
          "data": {
            "text/plain": [
              "   ratingCount  budget  actorsGenresScore  directorsScore  creatorsScore  \\\n",
              "0       306205      33           6.444444             5.2       6.590176   \n",
              "\n",
              "   keywordsScore  todayAgoPublished  minutes  minAgeToWatch  \n",
              "0       7.431364               9602       98             13  "
            ],
            "text/html": [
              "\n",
              "  <div id=\"df-e8364cc7-e71f-440b-bbab-6065bede33d2\" class=\"colab-df-container\">\n",
              "    <div>\n",
              "<style scoped>\n",
              "    .dataframe tbody tr th:only-of-type {\n",
              "        vertical-align: middle;\n",
              "    }\n",
              "\n",
              "    .dataframe tbody tr th {\n",
              "        vertical-align: top;\n",
              "    }\n",
              "\n",
              "    .dataframe thead th {\n",
              "        text-align: right;\n",
              "    }\n",
              "</style>\n",
              "<table border=\"1\" class=\"dataframe\">\n",
              "  <thead>\n",
              "    <tr style=\"text-align: right;\">\n",
              "      <th></th>\n",
              "      <th>ratingCount</th>\n",
              "      <th>budget</th>\n",
              "      <th>actorsGenresScore</th>\n",
              "      <th>directorsScore</th>\n",
              "      <th>creatorsScore</th>\n",
              "      <th>keywordsScore</th>\n",
              "      <th>todayAgoPublished</th>\n",
              "      <th>minutes</th>\n",
              "      <th>minAgeToWatch</th>\n",
              "    </tr>\n",
              "  </thead>\n",
              "  <tbody>\n",
              "    <tr>\n",
              "      <th>0</th>\n",
              "      <td>306205</td>\n",
              "      <td>33</td>\n",
              "      <td>6.444444</td>\n",
              "      <td>5.2</td>\n",
              "      <td>6.590176</td>\n",
              "      <td>7.431364</td>\n",
              "      <td>9602</td>\n",
              "      <td>98</td>\n",
              "      <td>13</td>\n",
              "    </tr>\n",
              "  </tbody>\n",
              "</table>\n",
              "</div>\n",
              "    <div class=\"colab-df-buttons\">\n",
              "\n",
              "  <div class=\"colab-df-container\">\n",
              "    <button class=\"colab-df-convert\" onclick=\"convertToInteractive('df-e8364cc7-e71f-440b-bbab-6065bede33d2')\"\n",
              "            title=\"Convert this dataframe to an interactive table.\"\n",
              "            style=\"display:none;\">\n",
              "\n",
              "  <svg xmlns=\"http://www.w3.org/2000/svg\" height=\"24px\" viewBox=\"0 -960 960 960\">\n",
              "    <path d=\"M120-120v-720h720v720H120Zm60-500h600v-160H180v160Zm220 220h160v-160H400v160Zm0 220h160v-160H400v160ZM180-400h160v-160H180v160Zm440 0h160v-160H620v160ZM180-180h160v-160H180v160Zm440 0h160v-160H620v160Z\"/>\n",
              "  </svg>\n",
              "    </button>\n",
              "\n",
              "  <style>\n",
              "    .colab-df-container {\n",
              "      display:flex;\n",
              "      gap: 12px;\n",
              "    }\n",
              "\n",
              "    .colab-df-convert {\n",
              "      background-color: #E8F0FE;\n",
              "      border: none;\n",
              "      border-radius: 50%;\n",
              "      cursor: pointer;\n",
              "      display: none;\n",
              "      fill: #1967D2;\n",
              "      height: 32px;\n",
              "      padding: 0 0 0 0;\n",
              "      width: 32px;\n",
              "    }\n",
              "\n",
              "    .colab-df-convert:hover {\n",
              "      background-color: #E2EBFA;\n",
              "      box-shadow: 0px 1px 2px rgba(60, 64, 67, 0.3), 0px 1px 3px 1px rgba(60, 64, 67, 0.15);\n",
              "      fill: #174EA6;\n",
              "    }\n",
              "\n",
              "    .colab-df-buttons div {\n",
              "      margin-bottom: 4px;\n",
              "    }\n",
              "\n",
              "    [theme=dark] .colab-df-convert {\n",
              "      background-color: #3B4455;\n",
              "      fill: #D2E3FC;\n",
              "    }\n",
              "\n",
              "    [theme=dark] .colab-df-convert:hover {\n",
              "      background-color: #434B5C;\n",
              "      box-shadow: 0px 1px 3px 1px rgba(0, 0, 0, 0.15);\n",
              "      filter: drop-shadow(0px 1px 2px rgba(0, 0, 0, 0.3));\n",
              "      fill: #FFFFFF;\n",
              "    }\n",
              "  </style>\n",
              "\n",
              "    <script>\n",
              "      const buttonEl =\n",
              "        document.querySelector('#df-e8364cc7-e71f-440b-bbab-6065bede33d2 button.colab-df-convert');\n",
              "      buttonEl.style.display =\n",
              "        google.colab.kernel.accessAllowed ? 'block' : 'none';\n",
              "\n",
              "      async function convertToInteractive(key) {\n",
              "        const element = document.querySelector('#df-e8364cc7-e71f-440b-bbab-6065bede33d2');\n",
              "        const dataTable =\n",
              "          await google.colab.kernel.invokeFunction('convertToInteractive',\n",
              "                                                    [key], {});\n",
              "        if (!dataTable) return;\n",
              "\n",
              "        const docLinkHtml = 'Like what you see? Visit the ' +\n",
              "          '<a target=\"_blank\" href=https://colab.research.google.com/notebooks/data_table.ipynb>data table notebook</a>'\n",
              "          + ' to learn more about interactive tables.';\n",
              "        element.innerHTML = '';\n",
              "        dataTable['output_type'] = 'display_data';\n",
              "        await google.colab.output.renderOutput(dataTable, element);\n",
              "        const docLink = document.createElement('div');\n",
              "        docLink.innerHTML = docLinkHtml;\n",
              "        element.appendChild(docLink);\n",
              "      }\n",
              "    </script>\n",
              "  </div>\n",
              "\n",
              "\n",
              "    </div>\n",
              "  </div>\n"
            ],
            "application/vnd.google.colaboratory.intrinsic+json": {
              "type": "dataframe",
              "variable_name": "data_df",
              "summary": "{\n  \"name\": \"data_df\",\n  \"rows\": 1,\n  \"fields\": [\n    {\n      \"column\": \"ratingCount\",\n      \"properties\": {\n        \"dtype\": \"number\",\n        \"std\": null,\n        \"min\": 306205,\n        \"max\": 306205,\n        \"num_unique_values\": 1,\n        \"samples\": [\n          306205\n        ],\n        \"semantic_type\": \"\",\n        \"description\": \"\"\n      }\n    },\n    {\n      \"column\": \"budget\",\n      \"properties\": {\n        \"dtype\": \"number\",\n        \"std\": null,\n        \"min\": 33,\n        \"max\": 33,\n        \"num_unique_values\": 1,\n        \"samples\": [\n          33\n        ],\n        \"semantic_type\": \"\",\n        \"description\": \"\"\n      }\n    },\n    {\n      \"column\": \"actorsGenresScore\",\n      \"properties\": {\n        \"dtype\": \"number\",\n        \"std\": null,\n        \"min\": 6.444444444444445,\n        \"max\": 6.444444444444445,\n        \"num_unique_values\": 1,\n        \"samples\": [\n          6.444444444444445\n        ],\n        \"semantic_type\": \"\",\n        \"description\": \"\"\n      }\n    },\n    {\n      \"column\": \"directorsScore\",\n      \"properties\": {\n        \"dtype\": \"number\",\n        \"std\": null,\n        \"min\": 5.2,\n        \"max\": 5.2,\n        \"num_unique_values\": 1,\n        \"samples\": [\n          5.2\n        ],\n        \"semantic_type\": \"\",\n        \"description\": \"\"\n      }\n    },\n    {\n      \"column\": \"creatorsScore\",\n      \"properties\": {\n        \"dtype\": \"number\",\n        \"std\": null,\n        \"min\": 6.5901756674206275,\n        \"max\": 6.5901756674206275,\n        \"num_unique_values\": 1,\n        \"samples\": [\n          6.5901756674206275\n        ],\n        \"semantic_type\": \"\",\n        \"description\": \"\"\n      }\n    },\n    {\n      \"column\": \"keywordsScore\",\n      \"properties\": {\n        \"dtype\": \"number\",\n        \"std\": null,\n        \"min\": 7.431363636363637,\n        \"max\": 7.431363636363637,\n        \"num_unique_values\": 1,\n        \"samples\": [\n          7.431363636363637\n        ],\n        \"semantic_type\": \"\",\n        \"description\": \"\"\n      }\n    },\n    {\n      \"column\": \"todayAgoPublished\",\n      \"properties\": {\n        \"dtype\": \"number\",\n        \"std\": null,\n        \"min\": 9602,\n        \"max\": 9602,\n        \"num_unique_values\": 1,\n        \"samples\": [\n          9602\n        ],\n        \"semantic_type\": \"\",\n        \"description\": \"\"\n      }\n    },\n    {\n      \"column\": \"minutes\",\n      \"properties\": {\n        \"dtype\": \"number\",\n        \"std\": null,\n        \"min\": 98,\n        \"max\": 98,\n        \"num_unique_values\": 1,\n        \"samples\": [\n          98\n        ],\n        \"semantic_type\": \"\",\n        \"description\": \"\"\n      }\n    },\n    {\n      \"column\": \"minAgeToWatch\",\n      \"properties\": {\n        \"dtype\": \"number\",\n        \"std\": null,\n        \"min\": 13,\n        \"max\": 13,\n        \"num_unique_values\": 1,\n        \"samples\": [\n          13\n        ],\n        \"semantic_type\": \"\",\n        \"description\": \"\"\n      }\n    }\n  ]\n}"
            }
          },
          "metadata": {},
          "execution_count": 10
        }
      ]
    },
    {
      "cell_type": "code",
      "source": [
        "# Apply scaler transformation\n",
        "scaled_new_data = scaler.transform(data_df)"
      ],
      "metadata": {
        "id": "7V7er97uxkfN"
      },
      "execution_count": 11,
      "outputs": []
    },
    {
      "cell_type": "code",
      "source": [
        "print(scaled_new_data)"
      ],
      "metadata": {
        "colab": {
          "base_uri": "https://localhost:8080/"
        },
        "id": "nnK1uMMLysnM",
        "outputId": "29562926-c7e4-4c05-801f-7f9f3b711c20"
      },
      "execution_count": 12,
      "outputs": [
        {
          "output_type": "stream",
          "name": "stdout",
          "text": [
            "[[14.28026245  0.15366728 -0.45389195 -1.69539352 -0.64259373  1.13013421\n",
            "   0.2186146   1.53052766  0.20824958]]\n"
          ]
        }
      ]
    },
    {
      "cell_type": "markdown",
      "source": [
        "# Run model"
      ],
      "metadata": {
        "id": "gw93FeVOaa57"
      }
    },
    {
      "cell_type": "code",
      "source": [
        "import joblib\n",
        "\n",
        "# Load the saved model\n",
        "xgb_reg_loaded = joblib.load('xgboost_reg_model.pkl')"
      ],
      "metadata": {
        "id": "bNR90UF3aalT"
      },
      "execution_count": 18,
      "outputs": []
    },
    {
      "cell_type": "code",
      "source": [
        "y_test_pred_xgb = xgb_reg_loaded.predict(scaled_new_data)\n",
        "\n",
        "print(y_test_pred_xgb)"
      ],
      "metadata": {
        "colab": {
          "base_uri": "https://localhost:8080/"
        },
        "id": "kKGZMhuyaiL6",
        "outputId": "8b3e77d3-d404-47dc-8fc9-270c7dfc98b7"
      },
      "execution_count": 20,
      "outputs": [
        {
          "output_type": "stream",
          "name": "stdout",
          "text": [
            "[6.3115377]\n"
          ]
        }
      ]
    },
    {
      "cell_type": "code",
      "source": [],
      "metadata": {
        "id": "BwBPlj44ak-2"
      },
      "execution_count": null,
      "outputs": []
    }
  ]
}